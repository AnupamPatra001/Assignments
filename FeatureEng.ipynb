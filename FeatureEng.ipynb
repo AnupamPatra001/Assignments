{
  "nbformat": 4,
  "nbformat_minor": 0,
  "metadata": {
    "colab": {
      "provenance": []
    },
    "kernelspec": {
      "name": "python3",
      "display_name": "Python 3"
    },
    "language_info": {
      "name": "python"
    }
  },
  "cells": [
    {
      "cell_type": "markdown",
      "source": [
        "1. What is a parameter?\n",
        "- A parameter is a variable that defines a model's internal settings.\n",
        "In Machine Learning, parameters are learned from data (e.g., weights in linear regression, coefficients in logistic regression).\n",
        "\n",
        "- Example: In y=mx+c, m and c are parameters.\n",
        "2. What is correlation? What does negative correlation mean?\n",
        "- Correlation measures the strength and direction of the relationship between two variables.\n",
        "- Value ranges from -1 to +1.\n",
        "- +1 → perfect positive relationship, -1 → perfect negative relationship, 0 → no relationship.\n",
        "- Negative correlation means that as one variable increases, the other decreases.\n",
        "3. Define Machine Learning. What are the main components in Machine Learning?\n",
        "\n",
        "- Machine Learning (ML) is a subset of AI where systems learn patterns from data without explicit programming.\n",
        "- Main components:\n",
        "  - Data - Input information for training.\n",
        "  - Model - Algorithm used to learn from data (e.g., Linear Regression, Decision Trees).\n",
        "  - Loss function - Measures prediction error.\n",
        "  - Optimizer - Updates parameters to minimize loss.\n",
        "  - Training process - Fitting the model with data.\n",
        "\n",
        "4. How does loss value help in determining whether the model is good or not?\n",
        "- Loss value quantifies the difference between predicted and actual values.\n",
        "- Low loss → better model fit, high loss → poor performance.\n",
        "5. What are continuous and categorical variables?\n",
        "- Continuous variables: Numerical values with infinite possible values. (e.g., height, weight, temperature).\n",
        "- Categorical variables: Represent categories or groups. (e.g., gender, colors, cities).\n",
        "6. How do we handle categorical variables in Machine Learning? What are the common techniques?\n",
        "- We convert categories into numeric values:\n",
        "- Label Encoding -  Assigns each category an integer.\n",
        "- One-Hot Encoding -  Creates binary columns for each category.\n",
        "- Target Encoding -  Uses mean of target variable for each category.\n",
        "7. What do you mean by training and testing a dataset?\n",
        "- Training dataset: Used to train the model (learn patterns).\n",
        "- Testing dataset: Used to evaluate model performance on unseen data.\n",
        "8. What is sklearn.preprocessing?\n",
        "- sklearn.preprocessing is a module in Scikit-learn that provides functions for:\n",
        "- Scaling (StandardScaler, MinMaxScaler)\n",
        "- Encoding categorical data (LabelEncoder, OneHotEncoder)\n",
        "- Normalization\n",
        "9. What is a Test set?\n",
        "\n",
        "- The test set is a portion of the dataset kept aside to evaluate model performance after training.\n",
        "\n",
        "\n"
      ],
      "metadata": {
        "id": "HSoN7aBoPtxt"
      }
    },
    {
      "cell_type": "code",
      "execution_count": 2,
      "metadata": {
        "colab": {
          "base_uri": "https://localhost:8080/"
        },
        "id": "rrjKVJIBPlA0",
        "outputId": "c35510ad-c27a-4415-b368-efa35bd6c755"
      },
      "outputs": [
        {
          "output_type": "stream",
          "name": "stdout",
          "text": [
            "X_train:\n",
            "    Age  Salary\n",
            "4   45   80000\n",
            "2   35   60000\n",
            "0   25   40000\n",
            "3   40   70000\n",
            "y_train:\n",
            " 4    1\n",
            "2    0\n",
            "0    0\n",
            "3    1\n",
            "Name: Purchased, dtype: int64\n"
          ]
        }
      ],
      "source": [
        "# 10. How do we split data for model fitting (training and testing) in Python? How do you approach a Machine Learning problem?\n",
        "import pandas as pd\n",
        "from sklearn.model_selection import train_test_split\n",
        "\n",
        "# Example dataset\n",
        "df = pd.DataFrame({\n",
        "    'Age': [25, 30, 35, 40, 45],\n",
        "    'Salary': [40000, 50000, 60000, 70000, 80000],\n",
        "    'Purchased': [0, 1, 0, 1, 1]\n",
        "})\n",
        "\n",
        "# Step 1: Define X (features) and y (target)\n",
        "X = df[['Age', 'Salary']]   # Features\n",
        "y = df['Purchased']         # Target variable\n",
        "\n",
        "# Step 2: Split into train & test sets\n",
        "X_train, X_test, y_train, y_test = train_test_split(\n",
        "    X, y, test_size=0.2, random_state=42\n",
        ")\n",
        "\n",
        "print(\"X_train:\\n\", X_train)\n",
        "print(\"y_train:\\n\", y_train)\n",
        "\n"
      ]
    },
    {
      "cell_type": "markdown",
      "source": [
        "Steps:\n",
        "- Understand the problem (define objective).\n",
        "- Collect data.\n",
        "- Perform EDA (explore patterns, correlations, distributions).\n",
        "- Preprocess data (handle missing values, encoding, scaling).\n",
        "- Split data (train/test).\n",
        "- Select and train model.\n",
        "- Evaluate performance.\n",
        "- Tune hyperparameters.\n",
        "- Deploy and monitor.\n",
        "11. Why do we have to perform EDA before fitting a model to the data?\n",
        "\n",
        "- To understand the dataset (distribution, patterns, outliers).\n",
        "\n",
        "- To identify relationships between features.\n",
        "\n",
        "- To check missing values and anomalies.\n",
        "\n",
        "- To decide preprocessing steps (scaling, encoding, transformations).\n",
        "12. What is correlation?\n",
        "- Correlation measures the strength and direction of the relationship between two variables.\n",
        "  - Value ranges from -1 to +1.\n",
        "  - +1 → perfect positive relationship, -1 → perfect negative relationship, 0 → no relationship.\n",
        "\n",
        "13. What does negative correlation mean?\n",
        "- Negative correlation means that as one variable increases, the other decreases.\n",
        "- Example: Hours spent exercising vs. body fat percentage.\n"
      ],
      "metadata": {
        "id": "LWdCSSrnVGFo"
      }
    },
    {
      "cell_type": "code",
      "source": [
        "# 14. How can you find correlation between variables in Python?\n",
        "import pandas as pd\n",
        "import seaborn as sns\n",
        "import matplotlib.pyplot as plt\n",
        "\n",
        "df.corr()  # gives correlation matrix\n",
        "sns.heatmap(df.corr(), annot=True, cmap=\"coolwarm\")\n",
        "plt.show()\n"
      ],
      "metadata": {
        "colab": {
          "base_uri": "https://localhost:8080/",
          "height": 435
        },
        "id": "oiyVA1KUVErF",
        "outputId": "53757e48-4903-4cbf-c5cc-17092d71d115"
      },
      "execution_count": 3,
      "outputs": [
        {
          "output_type": "display_data",
          "data": {
            "text/plain": [
              "<Figure size 640x480 with 2 Axes>"
            ],
            "image/png": "[encoded data removed]"
          },
          "metadata": {}
        }
      ]
    },
    {
      "cell_type": "markdown",
      "source": [
        "15. What is causation? Explain difference between correlation and causation with an example.\n",
        "- Causation means one variable directly influences another.\n",
        "- Correlation ≠ Causation.\n",
        "- Example:\n",
        "  - Ice cream sales and drowning cases are correlated.\n",
        "  - But causation is temperature (summer season), not ice cream itself.\n",
        "16. What is an Optimizer? What are different types of optimizers? Explain each with an example.\n",
        "- An optimizer adjusts model parameters to minimize the loss function.\n",
        "- Types of optimizers:\n",
        "- Gradient Descent -  Updates weights in direction of steepest descent.\n",
        "- Stochastic Gradient Descent (SGD) -  Updates weights using random samples.\n",
        "- Momentum -  Uses past gradients to smooth updates.\n",
        "- RMSProp -  Adapts learning rate for each parameter.\n",
        "- Adam -  Combines momentum and RMSProp (most widely used).\n",
        "17. What is sklearn.linear_model?\n",
        "-  sklearn.linear_model is a module in Scikit-learn that provides linear models:\n",
        "-  LinearRegression\n",
        "-  LogisticRegression\n",
        "-  Ridge/Lasso Regression\n",
        "18. What does model.fit() do? What arguments must be given?\n",
        "- model.fit(X_train, y_train) trains the model on training data.\n",
        "- Arguments:\n",
        "  - X_train → input features\n",
        "  - y_train → target labels\n",
        "19. What does model.predict() do? What arguments must be given?\n",
        "- model.predict(X_test) makes predictions using the trained model.\n",
        "- Argument: X_test → input features (no target).\n",
        "20. What are continuous and categorical variables?\n",
        "- Continuous variables: Numerical values with infinite possible values. (e.g., height, weight, temperature).\n",
        "- Categorical variables: Represent categories or groups. (e.g., gender, colors, cities).\n",
        "21. What is feature scaling? How does it help in Machine Learning?\n",
        "\n",
        "- Feature scaling standardizes data so features contribute equally to the model.\n",
        "\n",
        "- Helps in algorithms like KNN, SVM, Gradient Descent, Neural Networks.\n",
        "\n",
        "- Without scaling, features with large ranges dominate smaller ones.\n"
      ],
      "metadata": {
        "id": "uP0lHNQnWx0C"
      }
    },
    {
      "cell_type": "code",
      "source": [
        "# 22. How do we perform scaling in Python?\n",
        "from sklearn.preprocessing import StandardScaler, MinMaxScaler\n",
        "\n",
        "scaler = StandardScaler()\n",
        "X_scaled = scaler.fit_transform(X)\n"
      ],
      "metadata": {
        "id": "pYlphd-pWrSA"
      },
      "execution_count": 4,
      "outputs": []
    },
    {
      "cell_type": "markdown",
      "source": [
        "23. What is sklearn.preprocessing?\n",
        "- sklearn.preprocessing is a module in Scikit-learn that provides functions for:\n",
        "- Scaling (StandardScaler, MinMaxScaler)\n",
        "- Encoding categorical data (LabelEncoder, OneHotEncoder)\n",
        "- Normalization"
      ],
      "metadata": {
        "id": "tdhOuAwmYlnN"
      }
    },
    {
      "cell_type": "code",
      "source": [
        "# 24. How do we split data for model fitting (training and testing) in Python?\n",
        "\n",
        "# We use train_test_split from Scikit-learn:\n",
        "import pandas as pd\n",
        "from sklearn.model_selection import train_test_split\n",
        "\n",
        "# Example dataset\n",
        "df = pd.DataFrame({\n",
        "    'Age': [25, 30, 35, 40, 45],\n",
        "    'Salary': [40000, 50000, 60000, 70000, 80000],\n",
        "    'Purchased': [0, 1, 0, 1, 1]\n",
        "})\n",
        "\n",
        "# Step 1: Define X (features) and y (target)\n",
        "X = df[['Age', 'Salary']]   # Features\n",
        "y = df['Purchased']         # Target variable\n",
        "\n",
        "# Step 2: Split into train & test sets\n",
        "X_train, X_test, y_train, y_test = train_test_split(\n",
        "    X, y, test_size=0.2, random_state=42\n",
        ")\n",
        "\n",
        "print(\"X_train:\\n\", X_train)\n",
        "print(\"y_train:\\n\", y_train)\n"
      ],
      "metadata": {
        "colab": {
          "base_uri": "https://localhost:8080/"
        },
        "id": "DmCSHZCbYfmZ",
        "outputId": "8794530c-b0f9-4de2-aabc-bfedb9b3c739"
      },
      "execution_count": 5,
      "outputs": [
        {
          "output_type": "stream",
          "name": "stdout",
          "text": [
            "X_train:\n",
            "    Age  Salary\n",
            "4   45   80000\n",
            "2   35   60000\n",
            "0   25   40000\n",
            "3   40   70000\n",
            "y_train:\n",
            " 4    1\n",
            "2    0\n",
            "0    0\n",
            "3    1\n",
            "Name: Purchased, dtype: int64\n"
          ]
        }
      ]
    },
    {
      "cell_type": "markdown",
      "source": [
        "25. Explain data encoding.\n",
        "- Data encoding converts categorical variables into numeric format.\n",
        "- Common techniques:\n",
        "  - Label Encoding -  Each category → integer.\n",
        "  - One-Hot Encoding -  Each category → separate binary column.\n",
        "  - Ordinal Encoding -  Ordered categories mapped to integers.\n",
        "  - Target Encoding -  Encodes based on target variable mean."
      ],
      "metadata": {
        "id": "WUranpkwZUS4"
      }
    },
    {
      "cell_type": "code",
      "source": [],
      "metadata": {
        "id": "2qQ3mTVwZQIm"
      },
      "execution_count": null,
      "outputs": []
    }
  ]
}